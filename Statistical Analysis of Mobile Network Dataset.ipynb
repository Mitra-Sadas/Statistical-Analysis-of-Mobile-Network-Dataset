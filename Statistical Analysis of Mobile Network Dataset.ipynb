{
 "cells": [
  {
   "cell_type": "code",
   "execution_count": 2,
   "id": "5f5ea249",
   "metadata": {},
   "outputs": [],
   "source": [
    "import numpy as np \n",
    "import pandas as pd \n",
    "import seaborn as sb \n",
    "import matplotlib.pyplot as plt \n",
    "import scipy.stats as stats "
   ]
  },
  {
   "cell_type": "code",
   "execution_count": 68,
   "id": "2194a31d",
   "metadata": {},
   "outputs": [
    {
     "data": {
      "text/html": [
       "<div>\n",
       "<style scoped>\n",
       "    .dataframe tbody tr th:only-of-type {\n",
       "        vertical-align: middle;\n",
       "    }\n",
       "\n",
       "    .dataframe tbody tr th {\n",
       "        vertical-align: top;\n",
       "    }\n",
       "\n",
       "    .dataframe thead th {\n",
       "        text-align: right;\n",
       "    }\n",
       "</style>\n",
       "<table border=\"1\" class=\"dataframe\">\n",
       "  <thead>\n",
       "    <tr style=\"text-align: right;\">\n",
       "      <th></th>\n",
       "      <th>date</th>\n",
       "      <th>duration</th>\n",
       "      <th>item</th>\n",
       "      <th>month</th>\n",
       "      <th>network</th>\n",
       "      <th>network_type</th>\n",
       "    </tr>\n",
       "  </thead>\n",
       "  <tbody>\n",
       "    <tr>\n",
       "      <th>0</th>\n",
       "      <td>15-10-14 6:58</td>\n",
       "      <td>221.321120</td>\n",
       "      <td>data</td>\n",
       "      <td>2014-11</td>\n",
       "      <td>data</td>\n",
       "      <td>data</td>\n",
       "    </tr>\n",
       "    <tr>\n",
       "      <th>1</th>\n",
       "      <td>15-10-14 6:58</td>\n",
       "      <td>81.610599</td>\n",
       "      <td>call</td>\n",
       "      <td>2014-11</td>\n",
       "      <td>Vodafone</td>\n",
       "      <td>mobile</td>\n",
       "    </tr>\n",
       "    <tr>\n",
       "      <th>2</th>\n",
       "      <td>15-10-14 14:46</td>\n",
       "      <td>143.109111</td>\n",
       "      <td>call</td>\n",
       "      <td>2014-11</td>\n",
       "      <td>Meteor</td>\n",
       "      <td>mobile</td>\n",
       "    </tr>\n",
       "    <tr>\n",
       "      <th>3</th>\n",
       "      <td>15-10-14 14:48</td>\n",
       "      <td>111.888670</td>\n",
       "      <td>call</td>\n",
       "      <td>2014-11</td>\n",
       "      <td>Tesco</td>\n",
       "      <td>mobile</td>\n",
       "    </tr>\n",
       "    <tr>\n",
       "      <th>4</th>\n",
       "      <td>15-10-14 17:27</td>\n",
       "      <td>246.695171</td>\n",
       "      <td>call</td>\n",
       "      <td>2014-11</td>\n",
       "      <td>Tesco</td>\n",
       "      <td>mobile</td>\n",
       "    </tr>\n",
       "  </tbody>\n",
       "</table>\n",
       "</div>"
      ],
      "text/plain": [
       "             date    duration  item    month   network network_type\n",
       "0   15-10-14 6:58  221.321120  data  2014-11      data         data\n",
       "1   15-10-14 6:58   81.610599  call  2014-11  Vodafone       mobile\n",
       "2  15-10-14 14:46  143.109111  call  2014-11    Meteor       mobile\n",
       "3  15-10-14 14:48  111.888670  call  2014-11     Tesco       mobile\n",
       "4  15-10-14 17:27  246.695171  call  2014-11     Tesco       mobile"
      ]
     },
     "execution_count": 68,
     "metadata": {},
     "output_type": "execute_result"
    }
   ],
   "source": [
    "dfm=pd.read_csv('phone.csv')\n",
    "dfm.head()"
   ]
  },
  {
   "cell_type": "code",
   "execution_count": 71,
   "id": "0c47318c",
   "metadata": {},
   "outputs": [
    {
     "name": "stdout",
     "output_type": "stream",
     "text": [
      "<class 'pandas.core.frame.DataFrame'>\n",
      "RangeIndex: 820 entries, 0 to 819\n",
      "Data columns (total 6 columns):\n",
      " #   Column        Non-Null Count  Dtype  \n",
      "---  ------        --------------  -----  \n",
      " 0   date          820 non-null    object \n",
      " 1   duration      820 non-null    float64\n",
      " 2   item          820 non-null    object \n",
      " 3   month         820 non-null    object \n",
      " 4   network       820 non-null    object \n",
      " 5   network_type  820 non-null    object \n",
      "dtypes: float64(1), object(5)\n",
      "memory usage: 38.6+ KB\n"
     ]
    }
   ],
   "source": [
    "dfm.info()"
   ]
  },
  {
   "cell_type": "code",
   "execution_count": 73,
   "id": "bebf92e5",
   "metadata": {},
   "outputs": [],
   "source": [
    "dfm['date']=pd.to_datetime(dfm['date'])"
   ]
  },
  {
   "cell_type": "code",
   "execution_count": 75,
   "id": "52502f18",
   "metadata": {},
   "outputs": [
    {
     "data": {
      "text/plain": [
       "count    820.000000\n",
       "mean     144.304936\n",
       "std       45.687777\n",
       "min        0.993514\n",
       "25%      112.916486\n",
       "50%      144.179434\n",
       "75%      175.932308\n",
       "max      268.458090\n",
       "Name: duration, dtype: float64"
      ]
     },
     "execution_count": 75,
     "metadata": {},
     "output_type": "execute_result"
    }
   ],
   "source": [
    "dfm['duration'].describe()"
   ]
  },
  {
   "cell_type": "code",
   "execution_count": 78,
   "id": "3b00b3b3",
   "metadata": {},
   "outputs": [],
   "source": [
    "# month column can be dropped as we already have an existing Date cloumn from which month can be retrevied \n",
    "dfm.drop(columns='month',inplace=True)"
   ]
  },
  {
   "cell_type": "code",
   "execution_count": 152,
   "id": "24dcc0e2",
   "metadata": {},
   "outputs": [
    {
     "name": "stdout",
     "output_type": "stream",
     "text": [
      "3\n",
      "['data' 'call' 'sms']\n"
     ]
    }
   ],
   "source": [
    "print(dfm.item.nunique())\n",
    "print(dfm.item.unique())"
   ]
  },
  {
   "cell_type": "code",
   "execution_count": 80,
   "id": "19d2a383",
   "metadata": {},
   "outputs": [
    {
     "name": "stdout",
     "output_type": "stream",
     "text": [
      "7\n",
      "['data' 'Vodafone' 'Meteor' 'Tesco' 'Three' 'voicemail' 'landline']\n"
     ]
    }
   ],
   "source": [
    "print(dfm.network.nunique())\n",
    "print(dfm.network.unique())"
   ]
  },
  {
   "cell_type": "code",
   "execution_count": 81,
   "id": "bc01c217",
   "metadata": {},
   "outputs": [
    {
     "name": "stdout",
     "output_type": "stream",
     "text": [
      "4\n",
      "['data' 'mobile' 'voicemail' 'landline']\n"
     ]
    }
   ],
   "source": [
    "print(dfm.network_type.nunique())\n",
    "print(dfm.network_type.unique())"
   ]
  },
  {
   "cell_type": "code",
   "execution_count": 83,
   "id": "776cfa69",
   "metadata": {},
   "outputs": [
    {
     "data": {
      "text/plain": [
       "<AxesSubplot:xlabel='duration'>"
      ]
     },
     "execution_count": 83,
     "metadata": {},
     "output_type": "execute_result"
    },
    {
     "data": {
      "image/png": "[encoded data removed]",
      "text/plain": [
       "<Figure size 432x288 with 1 Axes>"
      ]
     },
     "metadata": {
      "needs_background": "light"
     },
     "output_type": "display_data"
    }
   ],
   "source": [
    "sb.boxplot(data=dfm,x='duration')"
   ]
  },
  {
   "cell_type": "code",
   "execution_count": null,
   "id": "605682a8",
   "metadata": {},
   "outputs": [],
   "source": [
    "# not many outliers are observed"
   ]
  },
  {
   "cell_type": "markdown",
   "id": "dac86d25",
   "metadata": {},
   "source": [
    "### a) With 95% & 99% Confidence Interval, Found the range estimate of average duration calls made by the entire network.  Interpreted the results."
   ]
  },
  {
   "cell_type": "code",
   "execution_count": 90,
   "id": "296cdfe0",
   "metadata": {},
   "outputs": [
    {
     "data": {
      "text/plain": [
       "(141.1778397288302, 147.4320313908407)"
      ]
     },
     "execution_count": 90,
     "metadata": {},
     "output_type": "execute_result"
    }
   ],
   "source": [
    "# range estimate using formula\n",
    "n=len(dfm)\n",
    "x_bar=np.mean(dfm['duration'])\n",
    "s=np.std(dfm['duration'],ddof=1)\n",
    "z=stats.norm.isf(0.025)\n",
    "\n",
    "LL=x_bar-z*s/np.sqrt(n)\n",
    "UL=x_bar+z*s/np.sqrt(n)\n",
    "\n",
    "LL,UL"
   ]
  },
  {
   "cell_type": "code",
   "execution_count": 93,
   "id": "c9942282",
   "metadata": {},
   "outputs": [
    {
     "name": "stdout",
     "output_type": "stream",
     "text": [
      "range estimate of average duration calls made by the entire network with 95% confidence is:\n",
      " (141.1778397288302, 147.4320313908407)\n",
      "\n",
      "range estimate of average duration calls made by the entire network with 99% confidence is:\n",
      " (140.19523500408818, 148.41463611558274)\n"
     ]
    }
   ],
   "source": [
    "#range estimate using inbult function\n",
    "print('range estimate of average duration calls made by the entire network with 95% confidence is:\\n',stats.norm.interval(loc=x_bar,scale=s/np.sqrt(n),alpha=0.95))\n",
    "print()\n",
    "print('range estimate of average duration calls made by the entire network with 99% confidence is:\\n',stats.norm.interval(loc=x_bar,scale=s/np.sqrt(n),alpha=0.99))\n"
   ]
  },
  {
   "cell_type": "code",
   "execution_count": null,
   "id": "adf0a41c",
   "metadata": {},
   "outputs": [],
   "source": [
    "INFERENCE:\n",
    "# The range estimate with 99% confidence has the largest range i.e, 140.19 to 148.41 \n",
    "# when comapred to The range estimate with 99% confidence i.e,141.1778397288302 to 147.4320313908407\n",
    "# It implies that, we can confidently say that the population mean for duration lies with in the range with 99% than 95% confidence interval."
   ]
  },
  {
   "cell_type": "markdown",
   "id": "7d7b90ee",
   "metadata": {},
   "source": [
    "### b) Performed statistical analysis to check whether the networks are equally distributed in the dataset."
   ]
  },
  {
   "cell_type": "code",
   "execution_count": 94,
   "id": "ebe46e13",
   "metadata": {},
   "outputs": [
    {
     "name": "stdout",
     "output_type": "stream",
     "text": [
      "7\n",
      "['data' 'Vodafone' 'Meteor' 'Tesco' 'Three' 'voicemail' 'landline']\n"
     ]
    }
   ],
   "source": [
    "# Network is a categorical column\n",
    "print(dfm.network.nunique())\n",
    "print(dfm.network.unique())"
   ]
  },
  {
   "cell_type": "code",
   "execution_count": null,
   "id": "1f87b8fe",
   "metadata": {},
   "outputs": [],
   "source": [
    "# Hypthesis Formation\n",
    "# Ho: Observed = Expected (Equally distributed)\n",
    "# Ha: Observed != Expected (UnEqually distributed)"
   ]
  },
  {
   "cell_type": "code",
   "execution_count": 95,
   "id": "2914cd24",
   "metadata": {},
   "outputs": [
    {
     "data": {
      "text/plain": [
       "Three        215\n",
       "Vodafone     215\n",
       "data         150\n",
       "Meteor        87\n",
       "Tesco         84\n",
       "landline      42\n",
       "voicemail     27\n",
       "Name: network, dtype: int64"
      ]
     },
     "execution_count": 95,
     "metadata": {},
     "output_type": "execute_result"
    }
   ],
   "source": [
    "dfm.network.value_counts()"
   ]
  },
  {
   "cell_type": "code",
   "execution_count": 99,
   "id": "a41d8cea",
   "metadata": {},
   "outputs": [
    {
     "data": {
      "text/plain": [
       "820"
      ]
     },
     "execution_count": 99,
     "metadata": {},
     "output_type": "execute_result"
    }
   ],
   "source": [
    "len(dfm)"
   ]
  },
  {
   "cell_type": "code",
   "execution_count": 124,
   "id": "cf186abb",
   "metadata": {},
   "outputs": [
    {
     "data": {
      "text/plain": [
       "Power_divergenceResult(statistic=80371.27409756096, pvalue=0.0)"
      ]
     },
     "execution_count": 124,
     "metadata": {},
     "output_type": "execute_result"
    }
   ],
   "source": [
    "# In order to consider network equally distributed, each should have equal percentage share\n",
    "per=(len(dfm)/7)/len(dfm)*100\n",
    "\n",
    "expected_value=np.array([per,per,per,per,per,per,per])*len(dfm)\n",
    "observed_value=dfm.network.value_counts().values\n",
    "\n",
    "stats.chisquare(f_obs=observed_value,f_exp=expected_value)"
   ]
  },
  {
   "cell_type": "code",
   "execution_count": null,
   "id": "cbc44a4a",
   "metadata": {},
   "outputs": [],
   "source": [
    "INFERENCE:\n",
    "# Pvalue =0.0\n",
    "# siglvl = 0.05\n",
    "# Pvalue<siglvl, hence, Ho is rejected, Ha is selected\n",
    "# Implies, the networks are unequally distributed in the dataset."
   ]
  },
  {
   "cell_type": "markdown",
   "id": "d776630c",
   "metadata": {},
   "source": [
    "### c) Plotted the distribution of duration with respect to each network in the same graph and interpreted the results from the graph."
   ]
  },
  {
   "cell_type": "code",
   "execution_count": 148,
   "id": "92db0980",
   "metadata": {},
   "outputs": [
    {
     "data": {
      "image/png": "[encoded data removed]",
      "text/plain": [
       "<Figure size 1080x648 with 1 Axes>"
      ]
     },
     "metadata": {
      "needs_background": "light"
     },
     "output_type": "display_data"
    }
   ],
   "source": [
    "plt.figure(figsize=(15,9))\n",
    "sb.kdeplot(data=dfm,x='duration',hue='network')\n",
    "plt.show()"
   ]
  },
  {
   "cell_type": "code",
   "execution_count": null,
   "id": "b9ced26c",
   "metadata": {},
   "outputs": [],
   "source": [
    "INFERENCE:\n",
    "# From the above graph, we can observe that, the duration with different network is normally distributed.\n",
    "# And it is also observed that, their MEANs are closed. It implies, the average network usage duration is more or less equal\n",
    "# among various networks."
   ]
  },
  {
   "cell_type": "markdown",
   "id": "8558abb3",
   "metadata": {},
   "source": [
    "### d)\tPerformed statistical tests to identify the relation between item and duration. Detailed relation explained"
   ]
  },
  {
   "cell_type": "code",
   "execution_count": 153,
   "id": "94978c16",
   "metadata": {},
   "outputs": [
    {
     "name": "stdout",
     "output_type": "stream",
     "text": [
      "3\n",
      "['data' 'call' 'sms']\n"
     ]
    }
   ],
   "source": [
    "print(dfm.item.nunique())\n",
    "print(dfm.item.unique())"
   ]
  },
  {
   "cell_type": "code",
   "execution_count": 156,
   "id": "a80e6649",
   "metadata": {},
   "outputs": [
    {
     "data": {
      "text/plain": [
       "F_onewayResult(statistic=1.9313964906864995, pvalue=0.1456068656611744)"
      ]
     },
     "execution_count": 156,
     "metadata": {},
     "output_type": "execute_result"
    }
   ],
   "source": [
    "#item is categorical \n",
    "#duration is numerical \n",
    "\n",
    "# ANOVA test\n",
    "\n",
    "#hypothesis formation\n",
    "# Ho: When all MEANs of duration are equal (There is no effect/ no relation)\n",
    "# Ha: When any of the MEANs of duration are not equal (There is effect/ relation)\n",
    "\n",
    "item_data=dfm[dfm['item']=='data']['duration']\n",
    "item_call=dfm[dfm['item']=='call']['duration']\n",
    "item_sms=dfm[dfm['item']=='sms']['duration']\n",
    "\n",
    "stats.f_oneway(item_data,item_call,item_sms)"
   ]
  },
  {
   "cell_type": "code",
   "execution_count": null,
   "id": "1f1376fb",
   "metadata": {},
   "outputs": [],
   "source": [
    "INFERENCE:\n",
    "#Pvalue = 0.14\n",
    "#Siglvl = 0.05\n",
    "# Pvalue>siglvl, hence, Ho is selected\n",
    "# Implies there is no effect/ no relation of item with Duration"
   ]
  },
  {
   "cell_type": "markdown",
   "id": "6c402dbf",
   "metadata": {},
   "source": [
    "### e)\tPerformed statistical tests to identify the relation between network and network_type. "
   ]
  },
  {
   "cell_type": "code",
   "execution_count": null,
   "id": "1231c2c7",
   "metadata": {},
   "outputs": [],
   "source": [
    "# Network and network type are categorical"
   ]
  },
  {
   "cell_type": "code",
   "execution_count": 157,
   "id": "141bf7be",
   "metadata": {},
   "outputs": [
    {
     "name": "stdout",
     "output_type": "stream",
     "text": [
      "7\n",
      "['data' 'Vodafone' 'Meteor' 'Tesco' 'Three' 'voicemail' 'landline']\n"
     ]
    }
   ],
   "source": [
    "print(dfm.network.nunique())\n",
    "print(dfm.network.unique())"
   ]
  },
  {
   "cell_type": "code",
   "execution_count": 158,
   "id": "7fa232a3",
   "metadata": {},
   "outputs": [
    {
     "name": "stdout",
     "output_type": "stream",
     "text": [
      "4\n",
      "['data' 'mobile' 'voicemail' 'landline']\n"
     ]
    }
   ],
   "source": [
    "print(dfm.network_type.nunique())\n",
    "print(dfm.network_type.unique())"
   ]
  },
  {
   "cell_type": "code",
   "execution_count": 161,
   "id": "858d89a7",
   "metadata": {},
   "outputs": [
    {
     "data": {
      "text/html": [
       "<div>\n",
       "<style scoped>\n",
       "    .dataframe tbody tr th:only-of-type {\n",
       "        vertical-align: middle;\n",
       "    }\n",
       "\n",
       "    .dataframe tbody tr th {\n",
       "        vertical-align: top;\n",
       "    }\n",
       "\n",
       "    .dataframe thead th {\n",
       "        text-align: right;\n",
       "    }\n",
       "</style>\n",
       "<table border=\"1\" class=\"dataframe\">\n",
       "  <thead>\n",
       "    <tr style=\"text-align: right;\">\n",
       "      <th>network_type</th>\n",
       "      <th>data</th>\n",
       "      <th>landline</th>\n",
       "      <th>mobile</th>\n",
       "      <th>voicemail</th>\n",
       "    </tr>\n",
       "    <tr>\n",
       "      <th>network</th>\n",
       "      <th></th>\n",
       "      <th></th>\n",
       "      <th></th>\n",
       "      <th></th>\n",
       "    </tr>\n",
       "  </thead>\n",
       "  <tbody>\n",
       "    <tr>\n",
       "      <th>Meteor</th>\n",
       "      <td>0</td>\n",
       "      <td>0</td>\n",
       "      <td>87</td>\n",
       "      <td>0</td>\n",
       "    </tr>\n",
       "    <tr>\n",
       "      <th>Tesco</th>\n",
       "      <td>0</td>\n",
       "      <td>0</td>\n",
       "      <td>84</td>\n",
       "      <td>0</td>\n",
       "    </tr>\n",
       "    <tr>\n",
       "      <th>Three</th>\n",
       "      <td>0</td>\n",
       "      <td>0</td>\n",
       "      <td>215</td>\n",
       "      <td>0</td>\n",
       "    </tr>\n",
       "    <tr>\n",
       "      <th>Vodafone</th>\n",
       "      <td>0</td>\n",
       "      <td>0</td>\n",
       "      <td>215</td>\n",
       "      <td>0</td>\n",
       "    </tr>\n",
       "    <tr>\n",
       "      <th>data</th>\n",
       "      <td>150</td>\n",
       "      <td>0</td>\n",
       "      <td>0</td>\n",
       "      <td>0</td>\n",
       "    </tr>\n",
       "    <tr>\n",
       "      <th>landline</th>\n",
       "      <td>0</td>\n",
       "      <td>42</td>\n",
       "      <td>0</td>\n",
       "      <td>0</td>\n",
       "    </tr>\n",
       "    <tr>\n",
       "      <th>voicemail</th>\n",
       "      <td>0</td>\n",
       "      <td>0</td>\n",
       "      <td>0</td>\n",
       "      <td>27</td>\n",
       "    </tr>\n",
       "  </tbody>\n",
       "</table>\n",
       "</div>"
      ],
      "text/plain": [
       "network_type  data  landline  mobile  voicemail\n",
       "network                                        \n",
       "Meteor           0         0      87          0\n",
       "Tesco            0         0      84          0\n",
       "Three            0         0     215          0\n",
       "Vodafone         0         0     215          0\n",
       "data           150         0       0          0\n",
       "landline         0        42       0          0\n",
       "voicemail        0         0       0         27"
      ]
     },
     "execution_count": 161,
     "metadata": {},
     "output_type": "execute_result"
    }
   ],
   "source": [
    "# Chisquare test of independence\n",
    "\n",
    "#Hypothesis formation\n",
    "\n",
    "# Ho : The columns are independent (no effect)\n",
    "# Ha : The columns are dependent (effect)\n",
    "\n",
    "Net=pd.crosstab(dfm['network'],dfm['network_type'])\n",
    "Net"
   ]
  },
  {
   "cell_type": "code",
   "execution_count": 162,
   "id": "0eee3113",
   "metadata": {},
   "outputs": [
    {
     "data": {
      "text/plain": [
       "(2460.0,\n",
       " 0.0,\n",
       " 18,\n",
       " array([[ 15.91463415,   4.45609756,  63.76463415,   2.86463415],\n",
       "        [ 15.36585366,   4.30243902,  61.56585366,   2.76585366],\n",
       "        [ 39.32926829,  11.01219512, 157.57926829,   7.07926829],\n",
       "        [ 39.32926829,  11.01219512, 157.57926829,   7.07926829],\n",
       "        [ 27.43902439,   7.68292683, 109.93902439,   4.93902439],\n",
       "        [  7.68292683,   2.15121951,  30.78292683,   1.38292683],\n",
       "        [  4.93902439,   1.38292683,  19.78902439,   0.88902439]]))"
      ]
     },
     "execution_count": 162,
     "metadata": {},
     "output_type": "execute_result"
    }
   ],
   "source": [
    "stats.chi2_contingency(Net)"
   ]
  },
  {
   "cell_type": "code",
   "execution_count": null,
   "id": "9f9d0da2",
   "metadata": {},
   "outputs": [],
   "source": [
    "INFERENCE:\n",
    "# Pvalue=0.0\n",
    "# siglvl=0.05\n",
    "# pvalu<siglvl, hence Ho is rejected, Ha is selected\n",
    "# There is a relation between network and network_type."
   ]
  },
  {
   "cell_type": "code",
   "execution_count": null,
   "id": "7ede807f",
   "metadata": {},
   "outputs": [],
   "source": []
  }
 ],
 "metadata": {
  "kernelspec": {
   "display_name": "Python 3",
   "language": "python",
   "name": "python3"
  },
  "language_info": {
   "codemirror_mode": {
    "name": "ipython",
    "version": 3
   },
   "file_extension": ".py",
   "mimetype": "text/x-python",
   "name": "python",
   "nbconvert_exporter": "python",
   "pygments_lexer": "ipython3",
   "version": "3.8.8"
  }
 },
 "nbformat": 4,
 "nbformat_minor": 5
}
